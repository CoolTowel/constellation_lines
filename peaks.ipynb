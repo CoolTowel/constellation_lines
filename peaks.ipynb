{
 "cells": [
  {
   "cell_type": "code",
   "execution_count": 1,
   "metadata": {},
   "outputs": [
    {
     "name": "stderr",
     "output_type": "stream",
     "text": [
      "2024-05-31 09:46:55,138:tetra3.Tetra3-INFO: Loading database from: c:\\Users\\mlang\\anaconda3\\Lib\\site-packages\\tetra3\\data\\default_database.npz\n"
     ]
    }
   ],
   "source": [
    "from utils import FishEyeImage, rot\n",
    "from photutils.detection import find_peaks, DAOStarFinder\n",
    "from photutils.aperture import CircularAperture\n",
    "from astropy.coordinates import angular_separation, position_angle, offset_by, SkyCoord\n",
    "from astropy.table import Table, vstack\n",
    "from astropy.stats import sigma_clipped_stats\n",
    "import numpy as np\n",
    "import matplotlib.pyplot as plt\n",
    "import astropy.units as u\n"
   ]
  },
  {
   "cell_type": "code",
   "execution_count": 2,
   "metadata": {},
   "outputs": [
    {
     "name": "stdout",
     "output_type": "stream",
     "text": [
      "{'RA': 118.41849225024492, 'Dec': 44.45471209203223, 'Roll': 317.497525846909, 'FOV': 28.40096774281282, 'distortion': -0.008960927971853215, 'RMSE': 208.0028699531976, 'Matches': 26, 'Prob': 1.0193527449677233e-48, 'epoch_equinox': 2000, 'epoch_proper_motion': 2023.0, 'T_solve': 14.708100003190339, 'T_extract': 57.59119999129325}\n"
     ]
    }
   ],
   "source": [
    "\n",
    "hips_star = Table.read('hip2.fits')\n",
    "\n",
    "file = 'IMG_8814'\n",
    "\n",
    "pic = FishEyeImage(file+'.jpg', file+'.CR3')\n",
    "\n",
    "solution = pic.solve(solve_size=1200)"
   ]
  },
  {
   "cell_type": "code",
   "execution_count": 3,
   "metadata": {},
   "outputs": [
    {
     "data": {
      "text/plain": [
       "(array([ 0,  1,  2,  3,  4,  5,  6,  7,  8,  9, 10, 11, 12, 13, 14, 15, 16,\n",
       "        17, 18, 19, 20, 21, 22, 23, 24, 25, 26, 27, 28, 29, 30],\n",
       "       dtype=int64),)"
      ]
     },
     "execution_count": 3,
     "metadata": {},
     "output_type": "execute_result"
    }
   ],
   "source": [
    "np.where(np.arange(0,10,0.1)<=3)"
   ]
  },
  {
   "cell_type": "code",
   "execution_count": 4,
   "metadata": {},
   "outputs": [
    {
     "name": "stderr",
     "output_type": "stream",
     "text": [
      "c:\\Users\\mlang\\anaconda3\\Lib\\site-packages\\paramiko\\transport.py:219: CryptographyDeprecationWarning: Blowfish has been deprecated\n",
      "  \"class\": algorithms.Blowfish,\n",
      "WARNING: MergeConflictWarning: Cannot merge meta key 'date' types <class 'str'> and <class 'str'>, choosing date='2024-05-31 09:46:59 中国标准时间' [astropy.utils.metadata]\n",
      "WARNING: MergeConflictWarning: Cannot merge meta key 'date' types <class 'str'> and <class 'str'>, choosing date='2024-05-31 09:47:00 中国标准时间' [astropy.utils.metadata]\n",
      "WARNING: MergeConflictWarning: Cannot merge meta key 'date' types <class 'str'> and <class 'str'>, choosing date='2024-05-31 09:47:01 中国标准时间' [astropy.utils.metadata]\n",
      "WARNING: MergeConflictWarning: Cannot merge meta key 'date' types <class 'str'> and <class 'str'>, choosing date='2024-05-31 09:47:02 中国标准时间' [astropy.utils.metadata]\n",
      "WARNING: MergeConflictWarning: Cannot merge meta key 'date' types <class 'str'> and <class 'str'>, choosing date='2024-05-31 09:47:03 中国标准时间' [astropy.utils.metadata]\n"
     ]
    }
   ],
   "source": [
    "pic.detect_stars()\n",
    "pic.detect_stars_eq()\n",
    "idx, d2d, d3d=pic.first_match()"
   ]
  },
  {
   "cell_type": "code",
   "execution_count": 5,
   "metadata": {},
   "outputs": [
    {
     "data": {
      "text/plain": [
       "(array([ 40., 185., 578., 407., 315., 262.,  49.,   3.,  10.,   7.]),\n",
       " array([ 0.,  2.,  4.,  6.,  8., 10., 12., 14., 16., 18., 20.]),\n",
       " <BarContainer object of 10 artists>)"
      ]
     },
     "execution_count": 5,
     "metadata": {},
     "output_type": "execute_result"
    },
    {
     "data": {
      "image/png": "[encoded data removed]",
      "text/plain": [
       "<Figure size 640x480 with 1 Axes>"
      ]
     },
     "metadata": {},
     "output_type": "display_data"
    }
   ],
   "source": [
    "plt.hist(d2d.to(u.arcmin),range=[0*u.arcmin,20*u.arcmin])"
   ]
  },
  {
   "cell_type": "code",
   "execution_count": 6,
   "metadata": {},
   "outputs": [
    {
     "data": {
      "text/plain": [
       "457.2768361643909"
      ]
     },
     "execution_count": 6,
     "metadata": {},
     "output_type": "execute_result"
    }
   ],
   "source": [
    "sep = d2d[d2d.to(u.arcmin) < 20*u.arcmin].to(u.arcsec).value\n",
    "np.sqrt(np.mean(sep**2))"
   ]
  },
  {
   "cell_type": "code",
   "execution_count": 13,
   "metadata": {},
   "outputs": [
    {
     "name": "stdout",
     "output_type": "stream",
     "text": [
      "[2.066792585014163, 0.7758810940320989, 5.541377192964361, 14.6, -0.19]\n",
      "mini:\n",
      "  message: CONVERGENCE: REL_REDUCTION_OF_F_<=_FACTR*EPSMCH\n",
      "  success: True\n",
      "   status: 0\n",
      "      fun: 231.92393882156395\n",
      "        x: [ 2.067e+00  7.773e-01  5.542e+00  1.454e+01 -1.377e-01]\n",
      "      nit: 20\n",
      "      jac: [-3.009e-02  1.915e-01  1.512e-01 -5.346e-02 -2.755e-02]\n",
      "     nfev: 162\n",
      "     njev: 27\n",
      " hess_inv: <5x5 LbfgsInvHessProduct with dtype=float64>\n"
     ]
    }
   ],
   "source": [
    "init , final = pic.plate_optimize(ra_dec_range=3, roll_range=5,f_range=0.8,k_range=0.2,)\n",
    "print(init)\n",
    "print('mini:')\n",
    "print(final)"
   ]
  },
  {
   "cell_type": "code",
   "execution_count": 8,
   "metadata": {},
   "outputs": [
    {
     "data": {
      "text/plain": [
       "array([ 2.06652934,  0.77725798,  5.54192126, 14.54231834, -0.13767568])"
      ]
     },
     "execution_count": 8,
     "metadata": {},
     "output_type": "execute_result"
    }
   ],
   "source": [
    "final.x\n"
   ]
  },
  {
   "cell_type": "code",
   "execution_count": 10,
   "metadata": {},
   "outputs": [
    {
     "data": {
      "text/plain": [
       "array([1.60000000e+01, 1.26992084e+01, 1.00793684e+01, 8.00000000e+00,\n",
       "       6.34960421e+00, 5.03968420e+00, 4.00000000e+00, 3.17480210e+00,\n",
       "       2.51984210e+00, 2.00000000e+00, 1.58740105e+00, 1.25992105e+00,\n",
       "       1.00000000e+00, 7.93700526e-01, 6.29960525e-01, 5.00000000e-01,\n",
       "       3.96850263e-01, 3.14980262e-01, 2.50000000e-01, 1.98425131e-01,\n",
       "       1.57490131e-01, 1.25000000e-01, 9.92125657e-02, 7.87450656e-02,\n",
       "       6.25000000e-02, 4.96062829e-02, 3.93725328e-02, 3.12500000e-02,\n",
       "       2.48031414e-02, 1.96862664e-02, 1.56250000e-02, 1.24015707e-02,\n",
       "       9.84313320e-03, 7.81250000e-03, 6.20078536e-03, 4.92156660e-03,\n",
       "       3.90625000e-03, 3.10039268e-03, 2.46078330e-03, 1.95312500e-03,\n",
       "       1.55019634e-03, 1.23039165e-03, 9.76562500e-04, 7.75098170e-04,\n",
       "       6.15195825e-04, 4.88281250e-04, 3.87549085e-04, 3.07597913e-04,\n",
       "       2.44140625e-04, 1.93774542e-04, 1.53798956e-04, 1.22070312e-04])"
      ]
     },
     "execution_count": 10,
     "metadata": {},
     "output_type": "execute_result"
    }
   ],
   "source": [
    "16*np.power(2, (-np.arange(52)*1/3))"
   ]
  },
  {
   "cell_type": "code",
   "execution_count": 3,
   "metadata": {},
   "outputs": [
    {
     "data": {
      "text/plain": [
       "[<matplotlib.lines.Line2D at 0x28a7b035bd0>]"
      ]
     },
     "execution_count": 3,
     "metadata": {},
     "output_type": "execute_result"
    },
    {
     "data": {
      "image/png": "[encoded data removed]",
      "text/plain": [
       "<Figure size 640x480 with 1 Axes>"
      ]
     },
     "metadata": {},
     "output_type": "display_data"
    }
   ],
   "source": [
    "from astropy.coordinates import get_sun\n",
    "from astropy.coordinates import EarthLocation, AltAz\n",
    "from astropy.time import Time\n",
    "import astropy.units as u\n",
    "import numpy as np\n",
    "import matplotlib.pyplot as plt\n",
    "# from astropy.utils.iers import conf\n",
    "# conf.auto_max_age = None\n",
    "\n",
    "sun_alts = [-12, -2, 5, 16]\n",
    "evs = [-7, 8, 13, 16]\n",
    "\n",
    "\n",
    "def sun2ev(sun_alt):\n",
    "    # sun_alt=sun_alt_input.value\n",
    "    if sun_alt < -12:\n",
    "        return -7\n",
    "    elif sun_alt < -2:\n",
    "        return -7+(8+7)/(12-2)*(sun_alt+12)\n",
    "    elif sun_alt < 5:\n",
    "        return 8+(13-8)/(5+2)*(sun_alt+2)\n",
    "    elif sun_alt<16:\n",
    "        return 13+(16-13)/(16-5)*(sun_alt-5)\n",
    "    else:\n",
    "        return 16\n",
    "    \n",
    "tv_keys = ['15\"','13\"', '10\"', '8\"', '6\"', '5\"', '4\"', '3\"2', '2\"5', '2\"', '1\"6', '1\"3', '1\"', '0\"8', '0\"6', '0\"5', '0\"4', '0\"3', '1/4', '1/5', '1/6', '1/8', '1/10', '1/13', '1/15', '1/20', '1/25', '1/30', '1/40', '1/50',\n",
    "           '1/60', '1/80', '1/100', '1/125', '1/160', '1/200', '1/250', '1/320', '1/400', '1/500', '1/640', '1/800', '1/1000', '1/1250', '1/1600', '1/2000', '1/2500', '1/3200', '1/4000', '1/5000', '1/6400', '1/8000']\n",
    "\n",
    "tv_values = 16*np.power(2, (-np.arange(52)*1/3))\n",
    "\n",
    "tv_dict = dict(zip(tv_keys, tv_values))\n",
    "\n",
    "iso_keys = ['100', '125', '160', '200', '250', '320', '400', '500', '640', '800', '1000', '1250', '1600', '2000', '2500', '3200']\n",
    "\n",
    "iso_values = 100*np.power(2, (np.arange(16)*1/3))\n",
    "\n",
    "iso_dict = dict(zip(iso_keys, iso_values))\n",
    "\n",
    "def find_nearest_key(dic, target):\n",
    "    return min(dic.keys(), key=lambda k: abs(dic[k] - target))\n",
    "\n",
    "def meter(ev,max_tv):\n",
    "    max_tv_key = find_nearest_key(tv_dict, max_tv)\n",
    "    max_tv = tv_dict[max_tv_key]\n",
    "    max_iso100_ev = np.log2(1/max_tv)+3\n",
    "    if ev >= max_iso100_ev:\n",
    "        tv = max_tv*2**(max_iso100_ev-ev)\n",
    "        tv = min(tv,max_tv)\n",
    "        iso = 100\n",
    "        tv = find_nearest_key(tv_dict, tv)\n",
    "        tv = tv_dict[tv]\n",
    "    else:\n",
    "        tv = max_tv\n",
    "        iso = 100*2**(max_iso100_ev-ev)\n",
    "        iso = find_nearest_key(iso_dict, iso)\n",
    "        iso = iso_dict[iso]\n",
    "    return tv, iso\n",
    "\n",
    "# lat = 40.071996\n",
    "# lon = 114.316539\n",
    "# height = 500\n",
    "\n",
    "# cam_loc = EarthLocation(lat=lat*u.deg, lon=lon*u.deg, height=height*u.m)\n",
    "# time_loc = Time.now()\n",
    "# # delta_midnight = np.linspace(0, 3, 500)*u.hour\n",
    "# # times = time_loc+delta_midnight\n",
    "\n",
    "# frame = AltAz(obstime=time_loc,location=cam_loc)\n",
    "# sun_altazs = get_sun(time_loc).transform_to(frame)\n",
    "# sun_alt = sun_altazs.alt\n",
    "\n",
    "sun2ev = np.vectorize(sun2ev)\n",
    "meter = np.vectorize(meter)\n",
    "sunalts = np.arange(-30,30,0.1)\n",
    "plt.plot(sunalts,sun2ev(sunalts))\n",
    "tv, iso =meter(sun2ev(sunalts),3.2)\n",
    "plt.plot(sunalts,tv)\n",
    "plt.plot(sunalts,iso/100)"
   ]
  },
  {
   "cell_type": "code",
   "execution_count": 17,
   "metadata": {},
   "outputs": [
    {
     "data": {
      "text/plain": [
       "[<matplotlib.lines.Line2D at 0x1da5b5a6e50>]"
      ]
     },
     "execution_count": 17,
     "metadata": {},
     "output_type": "execute_result"
    },
    {
     "data": {
      "image/png": "[encoded data removed]",
      "text/plain": [
       "<Figure size 640x480 with 1 Axes>"
      ]
     },
     "metadata": {},
     "output_type": "display_data"
    }
   ],
   "source": [
    "ts = np.arange(0,np.pi*0.45,0.01)\n",
    "r1 = 14.6/(-0.19)*np.sin(ts*-0.19)\n",
    "r2 = -76.84*np.sin(ts/-5.26315789473684)\n",
    "plt.plot(ts,r1)\n",
    "plt.plot(ts,r2)"
   ]
  },
  {
   "cell_type": "code",
   "execution_count": null,
   "metadata": {},
   "outputs": [],
   "source": []
  }
 ],
 "metadata": {
  "kernelspec": {
   "display_name": "base",
   "language": "python",
   "name": "python3"
  },
  "language_info": {
   "codemirror_mode": {
    "name": "ipython",
    "version": 3
   },
   "file_extension": ".py",
   "mimetype": "text/x-python",
   "name": "python",
   "nbconvert_exporter": "python",
   "pygments_lexer": "ipython3",
   "version": "3.11.5"
  }
 },
 "nbformat": 4,
 "nbformat_minor": 2
}
