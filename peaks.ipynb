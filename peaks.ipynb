{
 "cells": [
  {
   "cell_type": "code",
   "execution_count": 1,
   "metadata": {},
   "outputs": [
    {
     "name": "stderr",
     "output_type": "stream",
     "text": [
      "2024-05-30 09:00:38,798:tetra3.Tetra3-INFO: Loading database from: c:\\Users\\mlang\\anaconda3\\Lib\\site-packages\\tetra3\\data\\default_database.npz\n"
     ]
    },
    {
     "name": "stdout",
     "output_type": "stream",
     "text": [
      "{'RA': 118.41849225024492, 'Dec': 44.45471209203223, 'Roll': 317.497525846909, 'FOV': 28.40096774281282, 'distortion': -0.008960927971853215, 'RMSE': 208.0028699531976, 'Matches': 26, 'Prob': 1.0193527449677233e-48, 'epoch_equinox': 2000, 'epoch_proper_motion': 2023.0, 'T_solve': 51.93950003013015, 'T_extract': 58.45180002506822}\n"
     ]
    }
   ],
   "source": [
    "from utils import FishEyeImage, tt11, rot\n",
    "from photutils.detection import find_peaks, DAOStarFinder\n",
    "from photutils.aperture import CircularAperture\n",
    "from astropy.coordinates import angular_separation, position_angle\n",
    "from astropy.table import Table, vstack\n",
    "from astropy.stats import sigma_clipped_stats\n",
    "import numpy as np\n",
    "import matplotlib.pyplot as plt\n",
    "\n",
    "hips_star = Table.read('hip2.fits')\n",
    "\n",
    "file = 'IMG_8814'\n",
    "\n",
    "pic = FishEyeImage(file+'.jpg', file+'.CR3')\n",
    "\n",
    "solution = pic.solve(solve_size=1200)"
   ]
  },
  {
   "cell_type": "code",
   "execution_count": 2,
   "metadata": {},
   "outputs": [
    {
     "name": "stderr",
     "output_type": "stream",
     "text": [
      "c:\\Users\\mlang\\anaconda3\\Lib\\site-packages\\paramiko\\transport.py:219: CryptographyDeprecationWarning: Blowfish has been deprecated\n",
      "  \"class\": algorithms.Blowfish,\n",
      "WARNING: MergeConflictWarning: Cannot merge meta key 'date' types <class 'str'> and <class 'str'>, choosing date='2024-05-30 09:00:44 中国标准时间' [astropy.utils.metadata]\n",
      "WARNING: MergeConflictWarning: Cannot merge meta key 'date' types <class 'str'> and <class 'str'>, choosing date='2024-05-30 09:00:45 中国标准时间' [astropy.utils.metadata]\n",
      "WARNING: MergeConflictWarning: Cannot merge meta key 'date' types <class 'str'> and <class 'str'>, choosing date='2024-05-30 09:00:46 中国标准时间' [astropy.utils.metadata]\n",
      "WARNING: MergeConflictWarning: Cannot merge meta key 'date' types <class 'str'> and <class 'str'>, choosing date='2024-05-30 09:00:47 中国标准时间' [astropy.utils.metadata]\n",
      "WARNING: MergeConflictWarning: Cannot merge meta key 'date' types <class 'str'> and <class 'str'>, choosing date='2024-05-30 09:00:48 中国标准时间' [astropy.utils.metadata]\n"
     ]
    },
    {
     "data": {
      "text/html": [
       "<div><i>QTable length=2770</i>\n",
       "<table id=\"table2602962292624\" class=\"table-striped table-bordered table-condensed\">\n",
       "<thead><tr><th>id</th><th>xcentroid</th><th>ycentroid</th><th>sharpness</th><th>roundness1</th><th>roundness2</th><th>npix</th><th>sky</th><th>peak</th><th>flux</th><th>mag</th></tr></thead>\n",
       "<thead><tr><th>int32</th><th>float64</th><th>float64</th><th>float64</th><th>float64</th><th>float64</th><th>int32</th><th>float64</th><th>float64</th><th>float64</th><th>float64</th></tr></thead>\n",
       "<tr><td>1</td><td>332.13854905991633</td><td>166.42510777178873</td><td>0.7486194439585704</td><td>0.1968928643625197</td><td>0.34009041867102824</td><td>49</td><td>0.0</td><td>23265.0</td><td>1.2224808901723017</td><td>-0.2181051973877408</td></tr>\n",
       "<tr><td>2</td><td>119.48633423955624</td><td>436.53568066899004</td><td>0.5236217355169522</td><td>0.2838560701461812</td><td>0.3269609429560629</td><td>49</td><td>0.0</td><td>27597.333333333336</td><td>1.794839592989715</td><td>-0.6350641030486502</td></tr>\n",
       "<tr><td>1</td><td>946.9771968143461</td><td>87.98961695223723</td><td>0.6384080815936516</td><td>0.1554785975208034</td><td>0.1092939610274868</td><td>49</td><td>0.0</td><td>10205.333333333332</td><td>1.4031039438789852</td><td>-0.36772461338866413</td></tr>\n",
       "<tr><td>2</td><td>649.2383788213949</td><td>220.86559930658407</td><td>0.5435839220914808</td><td>0.46247035806069464</td><td>0.23879750486664736</td><td>49</td><td>0.0</td><td>8537.0</td><td>1.1669550227556227</td><td>-0.1676352940434364</td></tr>\n",
       "<tr><td>3</td><td>877.8004907868017</td><td>452.37611463239546</td><td>0.7293944075152924</td><td>0.2839958354681002</td><td>0.24783735946712787</td><td>49</td><td>0.0</td><td>13487.666666666666</td><td>1.6743103567025857</td><td>-0.5595899090987995</td></tr>\n",
       "<tr><td>1</td><td>1155.5914560120682</td><td>128.481227933846</td><td>0.5986523467892617</td><td>0.5733213293097336</td><td>0.34490734470550893</td><td>49</td><td>0.0</td><td>7525.000000000001</td><td>1.4685358400782775</td><td>-0.4172113752033793</td></tr>\n",
       "<tr><td>2</td><td>1227.9689576185117</td><td>160.8478779805779</td><td>0.6799387588968698</td><td>0.46083814122928207</td><td>0.3036247367680485</td><td>49</td><td>0.0</td><td>15994.333333333334</td><td>2.92523687414647</td><td>-1.1654025982416303</td></tr>\n",
       "<tr><td>3</td><td>1192.8481853489748</td><td>164.15880523581325</td><td>0.6479873530513774</td><td>0.32119471121927723</td><td>0.17808175925913294</td><td>49</td><td>0.0</td><td>6438.666666666667</td><td>1.2257019688833328</td><td>-0.22096220929761506</td></tr>\n",
       "<tr><td>4</td><td>1317.8219685488593</td><td>185.48164369886777</td><td>0.6884130892069007</td><td>0.5706651832002679</td><td>0.19650529100860706</td><td>49</td><td>0.0</td><td>10697.666666666666</td><td>1.9695125943625913</td><td>-0.73589690579853</td></tr>\n",
       "<tr><td>5</td><td>1028.8419014488538</td><td>197.44696094849334</td><td>0.4905410917910817</td><td>0.30176743620705543</td><td>0.27332799115795875</td><td>49</td><td>0.0</td><td>11983.666666666666</td><td>2.6384592169942223</td><td>-1.053375964047447</td></tr>\n",
       "<tr><td>...</td><td>...</td><td>...</td><td>...</td><td>...</td><td>...</td><td>...</td><td>...</td><td>...</td><td>...</td><td>...</td></tr>\n",
       "<tr><td>4</td><td>5133.044449027225</td><td>3675.0544179436415</td><td>0.5675360613714827</td><td>0.06577894016667434</td><td>0.16960558553371727</td><td>49</td><td>0.0</td><td>4588.333333333333</td><td>1.2187163214893701</td><td>-0.21475656849793073</td></tr>\n",
       "<tr><td>5</td><td>5139.641303001543</td><td>3799.2825533057494</td><td>0.6433659824709693</td><td>0.228223839924719</td><td>0.01736962655967419</td><td>49</td><td>0.0</td><td>4440.0</td><td>1.009126493616315</td><td>-0.00986402073684296</td></tr>\n",
       "<tr><td>6</td><td>5215.850790962794</td><td>3813.1922093397657</td><td>0.5429122266100923</td><td>-0.21783142128396998</td><td>0.08152770826051589</td><td>49</td><td>0.0</td><td>6381.333333333333</td><td>1.6439204874509799</td><td>-0.5397020197856564</td></tr>\n",
       "<tr><td>7</td><td>5004.618479287617</td><td>3850.0762180595143</td><td>0.490072069762566</td><td>-0.0031818915671229485</td><td>0.0497631810458628</td><td>49</td><td>0.0</td><td>4212.0</td><td>1.21898732839654</td><td>-0.21499797767174872</td></tr>\n",
       "<tr><td>8</td><td>5303.931736354042</td><td>3927.8885130749045</td><td>0.379503452504214</td><td>0.05894636956845653</td><td>0.1559491446871937</td><td>49</td><td>0.0</td><td>59499.66666666667</td><td>5.006766296351455</td><td>-1.7488933001600826</td></tr>\n",
       "<tr><td>9</td><td>5309.8073549166165</td><td>3929.8266843511074</td><td>0.48328358359400436</td><td>0.662318414826433</td><td>0.5585630751579552</td><td>49</td><td>0.0</td><td>64312.0</td><td>5.581000401862939</td><td>-1.8667801344706738</td></tr>\n",
       "<tr><td>10</td><td>5178.489036210141</td><td>3932.78546202094</td><td>0.49156253539566347</td><td>0.041805391204191585</td><td>0.08921159614844919</td><td>49</td><td>0.0</td><td>3974.0</td><td>1.077278907074666</td><td>-0.08082039130476856</td></tr>\n",
       "<tr><td>11</td><td>5309.458392079629</td><td>3932.3093192993333</td><td>0.4240161538127102</td><td>-0.7606101095663069</td><td>0.43465976493479397</td><td>49</td><td>0.0</td><td>64312.0</td><td>5.268829089029351</td><td>-1.804285277749437</td></tr>\n",
       "<tr><td>12</td><td>5305.142060190062</td><td>3933.328744722063</td><td>0.4191496075155299</td><td>0.41136393318675457</td><td>-0.20827820867466937</td><td>49</td><td>0.0</td><td>63500.0</td><td>5.948187070880867</td><td>-1.9359615466379512</td></tr>\n",
       "<tr><td>1</td><td>5817.688690921462</td><td>3532.2692262893156</td><td>0.6918542387307187</td><td>-0.4755433563420127</td><td>0.016790700160572436</td><td>49</td><td>0.0</td><td>13087.0</td><td>2.7920668690155725</td><td>-1.1148145381879015</td></tr>\n",
       "</table></div>"
      ],
      "text/plain": [
       "<QTable length=2770>\n",
       "  id      xcentroid      ...        flux                mag         \n",
       "int32      float64       ...      float64             float64       \n",
       "----- ------------------ ... ------------------ --------------------\n",
       "    1 332.13854905991633 ... 1.2224808901723017  -0.2181051973877408\n",
       "    2 119.48633423955624 ...  1.794839592989715  -0.6350641030486502\n",
       "    1  946.9771968143461 ... 1.4031039438789852 -0.36772461338866413\n",
       "    2  649.2383788213949 ... 1.1669550227556227  -0.1676352940434364\n",
       "    3  877.8004907868017 ... 1.6743103567025857  -0.5595899090987995\n",
       "    1 1155.5914560120682 ... 1.4685358400782775  -0.4172113752033793\n",
       "    2 1227.9689576185117 ...   2.92523687414647  -1.1654025982416303\n",
       "    3 1192.8481853489748 ... 1.2257019688833328 -0.22096220929761506\n",
       "    4 1317.8219685488593 ... 1.9695125943625913    -0.73589690579853\n",
       "    5 1028.8419014488538 ... 2.6384592169942223   -1.053375964047447\n",
       "  ...                ... ...                ...                  ...\n",
       "    4  5133.044449027225 ... 1.2187163214893701 -0.21475656849793073\n",
       "    5  5139.641303001543 ...  1.009126493616315 -0.00986402073684296\n",
       "    6  5215.850790962794 ... 1.6439204874509799  -0.5397020197856564\n",
       "    7  5004.618479287617 ...   1.21898732839654 -0.21499797767174872\n",
       "    8  5303.931736354042 ...  5.006766296351455  -1.7488933001600826\n",
       "    9 5309.8073549166165 ...  5.581000401862939  -1.8667801344706738\n",
       "   10  5178.489036210141 ...  1.077278907074666 -0.08082039130476856\n",
       "   11  5309.458392079629 ...  5.268829089029351   -1.804285277749437\n",
       "   12  5305.142060190062 ...  5.948187070880867  -1.9359615466379512\n",
       "    1  5817.688690921462 ... 2.7920668690155725  -1.1148145381879015"
      ]
     },
     "execution_count": 2,
     "metadata": {},
     "output_type": "execute_result"
    }
   ],
   "source": [
    "pic.detect_stars()"
   ]
  },
  {
   "cell_type": "code",
   "execution_count": 3,
   "metadata": {},
   "outputs": [
    {
     "ename": "TypeError",
     "evalue": "concatenate() got an unexpected keyword argument 'dtype'",
     "output_type": "error",
     "traceback": [
      "\u001b[1;31m---------------------------------------------------------------------------\u001b[0m",
      "\u001b[1;31mTypeError\u001b[0m                                 Traceback (most recent call last)",
      "Cell \u001b[1;32mIn[3], line 1\u001b[0m\n\u001b[1;32m----> 1\u001b[0m idx, d2d, d3d\u001b[38;5;241m=\u001b[39mpic\u001b[38;5;241m.\u001b[39mmatch()\n",
      "File \u001b[1;32mc:\\Users\\mlang\\constellation_lines\\utils.py:178\u001b[0m, in \u001b[0;36mFishEyeImage.match\u001b[1;34m(self, pixel_size, star_catalog, mag_limit)\u001b[0m\n\u001b[0;32m    176\u001b[0m catalog \u001b[38;5;241m=\u001b[39m catalog[np\u001b[38;5;241m.\u001b[39mlogical_and(catalog[\u001b[38;5;124m'\u001b[39m\u001b[38;5;124mHpmag\u001b[39m\u001b[38;5;124m'\u001b[39m]\u001b[38;5;241m<\u001b[39mmag_limit,catalog[\u001b[38;5;124m'\u001b[39m\u001b[38;5;124mHpmag\u001b[39m\u001b[38;5;124m'\u001b[39m]\u001b[38;5;241m>\u001b[39m\u001b[38;5;241m1\u001b[39m)]\n\u001b[0;32m    177\u001b[0m catalog_skycoords \u001b[38;5;241m=\u001b[39m SkyCoord(ra\u001b[38;5;241m=\u001b[39mcatalog[\u001b[38;5;124m'\u001b[39m\u001b[38;5;124mRA\u001b[39m\u001b[38;5;124m'\u001b[39m],dec\u001b[38;5;241m=\u001b[39mcatalog[\u001b[38;5;124m'\u001b[39m\u001b[38;5;124mDEC\u001b[39m\u001b[38;5;124m'\u001b[39m],frame\u001b[38;5;241m=\u001b[39m\u001b[38;5;124m'\u001b[39m\u001b[38;5;124micrs\u001b[39m\u001b[38;5;124m'\u001b[39m,unit\u001b[38;5;241m=\u001b[39m\u001b[38;5;124m'\u001b[39m\u001b[38;5;124mrad\u001b[39m\u001b[38;5;124m'\u001b[39m)\n\u001b[1;32m--> 178\u001b[0m idx, d2d, d3d \u001b[38;5;241m=\u001b[39m catalog_skycoords\u001b[38;5;241m.\u001b[39mmatch_to_catalog_sky(detect_star_skycoords)\n\u001b[0;32m    179\u001b[0m \u001b[38;5;28;01mreturn\u001b[39;00m idx, d2d, d3d\n",
      "File \u001b[1;32mc:\\Users\\mlang\\anaconda3\\Lib\\site-packages\\astropy\\coordinates\\sky_coordinate.py:1386\u001b[0m, in \u001b[0;36mSkyCoord.match_to_catalog_sky\u001b[1;34m(self, catalogcoord, nthneighbor)\u001b[0m\n\u001b[0;32m   1381\u001b[0m \u001b[38;5;28;01mif\u001b[39;00m \u001b[38;5;129;01mnot\u001b[39;00m (\u001b[38;5;28misinstance\u001b[39m(catalogcoord, (SkyCoord, BaseCoordinateFrame))\n\u001b[0;32m   1382\u001b[0m         \u001b[38;5;129;01mand\u001b[39;00m catalogcoord\u001b[38;5;241m.\u001b[39mhas_data):\n\u001b[0;32m   1383\u001b[0m     \u001b[38;5;28;01mraise\u001b[39;00m \u001b[38;5;167;01mTypeError\u001b[39;00m(\u001b[38;5;124m'\u001b[39m\u001b[38;5;124mCan only get separation to another SkyCoord or a \u001b[39m\u001b[38;5;124m'\u001b[39m\n\u001b[0;32m   1384\u001b[0m                     \u001b[38;5;124m'\u001b[39m\u001b[38;5;124mcoordinate frame with data\u001b[39m\u001b[38;5;124m'\u001b[39m)\n\u001b[1;32m-> 1386\u001b[0m res \u001b[38;5;241m=\u001b[39m match_coordinates_sky(\u001b[38;5;28mself\u001b[39m, catalogcoord,\n\u001b[0;32m   1387\u001b[0m                             nthneighbor\u001b[38;5;241m=\u001b[39mnthneighbor,\n\u001b[0;32m   1388\u001b[0m                             storekdtree\u001b[38;5;241m=\u001b[39m\u001b[38;5;124m'\u001b[39m\u001b[38;5;124m_kdtree_sky\u001b[39m\u001b[38;5;124m'\u001b[39m)\n\u001b[0;32m   1389\u001b[0m \u001b[38;5;28;01mreturn\u001b[39;00m res\n",
      "File \u001b[1;32mc:\\Users\\mlang\\anaconda3\\Lib\\site-packages\\astropy\\coordinates\\matching.py:164\u001b[0m, in \u001b[0;36mmatch_coordinates_sky\u001b[1;34m(matchcoord, catalogcoord, nthneighbor, storekdtree)\u001b[0m\n\u001b[0;32m    159\u001b[0m \u001b[38;5;66;03m# Check for a stored KD-tree on the passed-in coordinate. Normally it will\u001b[39;00m\n\u001b[0;32m    160\u001b[0m \u001b[38;5;66;03m# have a distinct name from the \"3D\" one, so it's safe to use even though\u001b[39;00m\n\u001b[0;32m    161\u001b[0m \u001b[38;5;66;03m# it's based on UnitSphericalRepresentation.\u001b[39;00m\n\u001b[0;32m    162\u001b[0m storekdtree \u001b[38;5;241m=\u001b[39m catalogcoord\u001b[38;5;241m.\u001b[39mcache\u001b[38;5;241m.\u001b[39mget(storekdtree, storekdtree)\n\u001b[1;32m--> 164\u001b[0m idx, sep2d, sep3d \u001b[38;5;241m=\u001b[39m match_coordinates_3d(newmatch_u, newcat_u, nthneighbor, storekdtree)\n\u001b[0;32m    165\u001b[0m \u001b[38;5;66;03m# sep3d is *wrong* above, because the distance information was removed,\u001b[39;00m\n\u001b[0;32m    166\u001b[0m \u001b[38;5;66;03m# unless one of the catalogs doesn't have a real distance\u001b[39;00m\n\u001b[0;32m    167\u001b[0m \u001b[38;5;28;01mif\u001b[39;00m \u001b[38;5;129;01mnot\u001b[39;00m (\u001b[38;5;28misinstance\u001b[39m(catalogcoord\u001b[38;5;241m.\u001b[39mdata, UnitSphericalRepresentation) \u001b[38;5;129;01mor\u001b[39;00m\n\u001b[0;32m    168\u001b[0m         \u001b[38;5;28misinstance\u001b[39m(newmatch\u001b[38;5;241m.\u001b[39mdata, UnitSphericalRepresentation)):\n",
      "File \u001b[1;32mc:\\Users\\mlang\\anaconda3\\Lib\\site-packages\\astropy\\coordinates\\matching.py:68\u001b[0m, in \u001b[0;36mmatch_coordinates_3d\u001b[1;34m(matchcoord, catalogcoord, nthneighbor, storekdtree)\u001b[0m\n\u001b[0;32m     64\u001b[0m \u001b[38;5;28;01mif\u001b[39;00m catalogcoord\u001b[38;5;241m.\u001b[39misscalar \u001b[38;5;129;01mor\u001b[39;00m \u001b[38;5;28mlen\u001b[39m(catalogcoord) \u001b[38;5;241m<\u001b[39m \u001b[38;5;241m1\u001b[39m:\n\u001b[0;32m     65\u001b[0m     \u001b[38;5;28;01mraise\u001b[39;00m \u001b[38;5;167;01mValueError\u001b[39;00m(\u001b[38;5;124m'\u001b[39m\u001b[38;5;124mThe catalog for coordinate matching cannot be a \u001b[39m\u001b[38;5;124m'\u001b[39m\n\u001b[0;32m     66\u001b[0m                      \u001b[38;5;124m'\u001b[39m\u001b[38;5;124mscalar or length-0.\u001b[39m\u001b[38;5;124m'\u001b[39m)\n\u001b[1;32m---> 68\u001b[0m kdt \u001b[38;5;241m=\u001b[39m _get_cartesian_kdtree(catalogcoord, storekdtree)\n\u001b[0;32m     70\u001b[0m \u001b[38;5;66;03m# make sure coordinate systems match\u001b[39;00m\n\u001b[0;32m     71\u001b[0m \u001b[38;5;28;01mif\u001b[39;00m \u001b[38;5;28misinstance\u001b[39m(matchcoord, SkyCoord):\n",
      "File \u001b[1;32mc:\\Users\\mlang\\anaconda3\\Lib\\site-packages\\astropy\\coordinates\\matching.py:466\u001b[0m, in \u001b[0;36m_get_cartesian_kdtree\u001b[1;34m(coord, attrname_or_kdt, forceunit)\u001b[0m\n\u001b[0;32m    463\u001b[0m \u001b[38;5;28;01mif\u001b[39;00m kdt \u001b[38;5;129;01mis\u001b[39;00m \u001b[38;5;28;01mNone\u001b[39;00m:\n\u001b[0;32m    464\u001b[0m     \u001b[38;5;66;03m# need to build the cartesian KD-tree for the catalog\u001b[39;00m\n\u001b[0;32m    465\u001b[0m     \u001b[38;5;28;01mif\u001b[39;00m forceunit \u001b[38;5;129;01mis\u001b[39;00m \u001b[38;5;28;01mNone\u001b[39;00m:\n\u001b[1;32m--> 466\u001b[0m         cartxyz \u001b[38;5;241m=\u001b[39m coord\u001b[38;5;241m.\u001b[39mcartesian\u001b[38;5;241m.\u001b[39mxyz\n\u001b[0;32m    467\u001b[0m     \u001b[38;5;28;01melse\u001b[39;00m:\n\u001b[0;32m    468\u001b[0m         cartxyz \u001b[38;5;241m=\u001b[39m coord\u001b[38;5;241m.\u001b[39mcartesian\u001b[38;5;241m.\u001b[39mxyz\u001b[38;5;241m.\u001b[39mto(forceunit)\n",
      "File \u001b[1;32mc:\\Users\\mlang\\anaconda3\\Lib\\site-packages\\astropy\\coordinates\\representation.py:1351\u001b[0m, in \u001b[0;36mCartesianRepresentation.get_xyz\u001b[1;34m(self, xyz_axis)\u001b[0m\n\u001b[0;32m   1346\u001b[0m         \u001b[38;5;28;01mreturn\u001b[39;00m np\u001b[38;5;241m.\u001b[39mmoveaxis(\u001b[38;5;28mself\u001b[39m\u001b[38;5;241m.\u001b[39m_xyz, \u001b[38;5;28mself\u001b[39m\u001b[38;5;241m.\u001b[39m_xyz_axis, xyz_axis)\n\u001b[0;32m   1348\u001b[0m \u001b[38;5;66;03m# Create combined array.  TO DO: keep it in _xyz for repeated use?\u001b[39;00m\n\u001b[0;32m   1349\u001b[0m \u001b[38;5;66;03m# But then in-place changes have to cancel it. Likely best to\u001b[39;00m\n\u001b[0;32m   1350\u001b[0m \u001b[38;5;66;03m# also update components.\u001b[39;00m\n\u001b[1;32m-> 1351\u001b[0m \u001b[38;5;28;01mreturn\u001b[39;00m np\u001b[38;5;241m.\u001b[39mstack([\u001b[38;5;28mself\u001b[39m\u001b[38;5;241m.\u001b[39m_x, \u001b[38;5;28mself\u001b[39m\u001b[38;5;241m.\u001b[39m_y, \u001b[38;5;28mself\u001b[39m\u001b[38;5;241m.\u001b[39m_z], axis\u001b[38;5;241m=\u001b[39mxyz_axis)\n",
      "File \u001b[1;32mc:\\Users\\mlang\\anaconda3\\Lib\\site-packages\\astropy\\units\\quantity.py:1683\u001b[0m, in \u001b[0;36mQuantity.__array_function__\u001b[1;34m(self, function, types, args, kwargs)\u001b[0m\n\u001b[0;32m   1670\u001b[0m \u001b[38;5;66;03m# A function should be in one of the following sets or dicts:\u001b[39;00m\n\u001b[0;32m   1671\u001b[0m \u001b[38;5;66;03m# 1. SUBCLASS_SAFE_FUNCTIONS (set), if the numpy implementation\u001b[39;00m\n\u001b[0;32m   1672\u001b[0m \u001b[38;5;66;03m#    supports Quantity; we pass on to ndarray.__array_function__.\u001b[39;00m\n\u001b[1;32m   (...)\u001b[0m\n\u001b[0;32m   1680\u001b[0m \u001b[38;5;66;03m# function is in none of the above, we simply call the numpy\u001b[39;00m\n\u001b[0;32m   1681\u001b[0m \u001b[38;5;66;03m# implementation.\u001b[39;00m\n\u001b[0;32m   1682\u001b[0m \u001b[38;5;28;01mif\u001b[39;00m function \u001b[38;5;129;01min\u001b[39;00m SUBCLASS_SAFE_FUNCTIONS:\n\u001b[1;32m-> 1683\u001b[0m     \u001b[38;5;28;01mreturn\u001b[39;00m \u001b[38;5;28msuper\u001b[39m()\u001b[38;5;241m.\u001b[39m__array_function__(function, types, args, kwargs)\n\u001b[0;32m   1685\u001b[0m \u001b[38;5;28;01melif\u001b[39;00m function \u001b[38;5;129;01min\u001b[39;00m FUNCTION_HELPERS:\n\u001b[0;32m   1686\u001b[0m     function_helper \u001b[38;5;241m=\u001b[39m FUNCTION_HELPERS[function]\n",
      "File \u001b[1;32mc:\\Users\\mlang\\anaconda3\\Lib\\site-packages\\numpy\\core\\shape_base.py:456\u001b[0m, in \u001b[0;36mstack\u001b[1;34m(arrays, axis, out, dtype, casting)\u001b[0m\n\u001b[0;32m    454\u001b[0m sl \u001b[38;5;241m=\u001b[39m (\u001b[38;5;28mslice\u001b[39m(\u001b[38;5;28;01mNone\u001b[39;00m),) \u001b[38;5;241m*\u001b[39m axis \u001b[38;5;241m+\u001b[39m (_nx\u001b[38;5;241m.\u001b[39mnewaxis,)\n\u001b[0;32m    455\u001b[0m expanded_arrays \u001b[38;5;241m=\u001b[39m [arr[sl] \u001b[38;5;28;01mfor\u001b[39;00m arr \u001b[38;5;129;01min\u001b[39;00m arrays]\n\u001b[1;32m--> 456\u001b[0m \u001b[38;5;28;01mreturn\u001b[39;00m _nx\u001b[38;5;241m.\u001b[39mconcatenate(expanded_arrays, axis\u001b[38;5;241m=\u001b[39maxis, out\u001b[38;5;241m=\u001b[39mout,\n\u001b[0;32m    457\u001b[0m                        dtype\u001b[38;5;241m=\u001b[39mdtype, casting\u001b[38;5;241m=\u001b[39mcasting)\n",
      "File \u001b[1;32mc:\\Users\\mlang\\anaconda3\\Lib\\site-packages\\astropy\\units\\quantity.py:1688\u001b[0m, in \u001b[0;36mQuantity.__array_function__\u001b[1;34m(self, function, types, args, kwargs)\u001b[0m\n\u001b[0;32m   1686\u001b[0m function_helper \u001b[38;5;241m=\u001b[39m FUNCTION_HELPERS[function]\n\u001b[0;32m   1687\u001b[0m \u001b[38;5;28;01mtry\u001b[39;00m:\n\u001b[1;32m-> 1688\u001b[0m     args, kwargs, unit, out \u001b[38;5;241m=\u001b[39m function_helper(\u001b[38;5;241m*\u001b[39margs, \u001b[38;5;241m*\u001b[39m\u001b[38;5;241m*\u001b[39mkwargs)\n\u001b[0;32m   1689\u001b[0m \u001b[38;5;28;01mexcept\u001b[39;00m \u001b[38;5;167;01mNotImplementedError\u001b[39;00m:\n\u001b[0;32m   1690\u001b[0m     \u001b[38;5;28;01mreturn\u001b[39;00m \u001b[38;5;28mself\u001b[39m\u001b[38;5;241m.\u001b[39m_not_implemented_or_raise(function, types)\n",
      "\u001b[1;31mTypeError\u001b[0m: concatenate() got an unexpected keyword argument 'dtype'"
     ]
    }
   ],
   "source": [
    "idx, d2d, d3d=pic.match()"
   ]
  },
  {
   "cell_type": "code",
   "execution_count": null,
   "metadata": {},
   "outputs": [],
   "source": []
  }
 ],
 "metadata": {
  "kernelspec": {
   "display_name": "base",
   "language": "python",
   "name": "python3"
  },
  "language_info": {
   "codemirror_mode": {
    "name": "ipython",
    "version": 3
   },
   "file_extension": ".py",
   "mimetype": "text/x-python",
   "name": "python",
   "nbconvert_exporter": "python",
   "pygments_lexer": "ipython3",
   "version": "3.11.5"
  }
 },
 "nbformat": 4,
 "nbformat_minor": 2
}
