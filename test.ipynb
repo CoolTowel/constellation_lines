{
 "cells": [
  {
   "cell_type": "code",
   "execution_count": 1,
   "metadata": {},
   "outputs": [],
   "source": [
    "import exiftool\n",
    "from astropy.time import Time\n",
    "import astropy.units as u\n",
    "raw_path = '010A7115.CR3'\n",
    "with exiftool.ExifToolHelper() as et:\n",
    "    exif = et.get_metadata(raw_path)[0]\n",
    "    time = exif['EXIF:DateTimeOriginal']\n",
    "    offset = exif['EXIF:OffsetTime']\n",
    "time = time.replace(':','-',2)\n",
    "time = Time(time)-int(offset[0:3])*u.hour"
   ]
  },
  {
   "cell_type": "code",
   "execution_count": 6,
   "metadata": {},
   "outputs": [],
   "source": [
    "from astropy.coordinates import SkyCoord, EarthLocation, AltAz, angular_separation, position_angle, offset_by\n",
    "bj = EarthLocation(lon=115*u.deg+14*u.arcsec,lat=41*u.deg+13*u.arcmin+53*u.arcsec,height = 1466)\n",
    "dunhuang  = EarthLocation(lon=94.322799*u.deg,lat=40.359581*u.deg,height = 1100)\n",
    "import numpy as np\n"
   ]
  },
  {
   "cell_type": "code",
   "execution_count": 5,
   "metadata": {},
   "outputs": [
    {
     "data": {
      "text/latex": [
       "[$0^\\circ09{}^\\prime43.87215249{}^{\\prime\\prime}$\n",
       " $0^\\circ00{}^\\prime34.62010552{}^{\\prime\\prime}$]"
      ],
      "text/plain": [
       "<Angle [0.16218671, 0.0096167 ] deg>"
      ]
     },
     "execution_count": 5,
     "metadata": {},
     "output_type": "execute_result"
    }
   ],
   "source": [
    "def alt2pres(altitude):\n",
    "    # https://pvlib-python.readthedocs.io/en/stable/_modules/pvlib/atmosphere.html\n",
    "    press = 100 * ((44331.514 - altitude) / 11880.516) ** (1 / 0.1902632)\n",
    "\n",
    "    return press/100*u.hPa\n",
    "\n",
    "f1 = AltAz(obstime=Time.now(), location=bj, pressure = alt2pres(bj.height.value),temperature=0*u.deg_C,relative_humidity=0.5,obswl=550*u.nm)\n",
    "f2 = AltAz(obstime=Time.now(), location=bj)\n",
    "s = SkyCoord(ra=[14/24*360,9],dec=[45,8],frame='icrs', unit='deg')\n",
    "s.transform_to(f1).alt-s.transform_to(f2).alt"
   ]
  },
  {
   "cell_type": "code",
   "execution_count": 23,
   "metadata": {},
   "outputs": [
    {
     "data": {
      "text/latex": [
       "$360^\\circ00{}^\\prime00{}^{\\prime\\prime}$"
      ],
      "text/plain": [
       "<Angle 360. deg>"
      ]
     },
     "execution_count": 23,
     "metadata": {},
     "output_type": "execute_result"
    }
   ],
   "source": [
    "e = SkyCoord(az=0.5*np.pi,alt=0,unit=u.rad,frame=f1)\n",
    "n = SkyCoord(az=0,alt=40,unit= u.deg,frame=f1)\n",
    "position_angle(e.az,e.alt,n.az,n.alt).to(u.deg)+50*u.deg"
   ]
  },
  {
   "cell_type": "code",
   "execution_count": 14,
   "metadata": {},
   "outputs": [],
   "source": [
    "s1 = s.transform_to(f1)"
   ]
  },
  {
   "cell_type": "code",
   "execution_count": 15,
   "metadata": {},
   "outputs": [
    {
     "data": {
      "text/latex": [
       "$[0.10093712,~0.73137107] \\; \\mathrm{rad}$"
      ],
      "text/plain": [
       "<Quantity [0.10093712, 0.73137107] rad>"
      ]
     },
     "execution_count": 15,
     "metadata": {},
     "output_type": "execute_result"
    }
   ],
   "source": [
    "angular_separation(0*u.rad, 0*u.rad, s1.az, s1.alt)"
   ]
  },
  {
   "cell_type": "code",
   "execution_count": 37,
   "metadata": {},
   "outputs": [
    {
     "data": {
      "text/plain": [
       "astropy.coordinates.sky_coordinate.SkyCoord"
      ]
     },
     "execution_count": 37,
     "metadata": {},
     "output_type": "execute_result"
    }
   ],
   "source": [
    "type(s.transform_to(f1))"
   ]
  },
  {
   "cell_type": "code",
   "execution_count": 5,
   "metadata": {},
   "outputs": [
    {
     "data": {
      "text/plain": [
       "5.8163417656954"
      ]
     },
     "execution_count": 5,
     "metadata": {},
     "output_type": "execute_result"
    }
   ],
   "source": [
    "import numpy as np\n",
    "import matplotlib.pyplot as plt\n",
    "from PIL import Image, ImageDraw\n",
    "from astropy.io import fits\n",
    "from astropy.table import Table, vstack\n",
    "from matplotlib.collections import LineCollection\n",
    "from astropy.coordinates import SkyCoord, EarthLocation, AltAz, angular_separation, position_angle, offset_by\n",
    "# from photutils.aperture import CircularAperture\n",
    "from astropy.stats import sigma_clipped_stats\n",
    "# from photutils.detection import find_peaks\n",
    "import tetra3\n",
    "import rawpy\n",
    "import exiftool\n",
    "from photutils.detection import find_peaks, DAOStarFinder\n",
    "import astropy.units as u\n",
    "from astropy.time import Time\n",
    "\n",
    "from scipy.optimize import minimize, curve_fit, fsolve\n",
    "\n",
    "def lens_func( theta, f, k, ks=[0]*5):\n",
    "    # r = f*np.sin(k*theta)/k\n",
    "    def func(r):\n",
    "        return np.arcsin(r*k/f)/k-(ks[0]*r**5 + ks[1]*r**4 + ks[2]*r**3 + ks[3]*r**2 + ks[4]*r)-theta\n",
    "\n",
    "    return fsolve(func, 10)[0]\n",
    "lens_func(0.4,14.6,-0.39)"
   ]
  },
  {
   "cell_type": "code",
   "execution_count": 3,
   "metadata": {},
   "outputs": [
    {
     "data": {
      "text/plain": [
       "0"
      ]
     },
     "execution_count": 3,
     "metadata": {},
     "output_type": "execute_result"
    }
   ],
   "source": [
    "([0]*5)[4]"
   ]
  },
  {
   "cell_type": "code",
   "execution_count": null,
   "metadata": {},
   "outputs": [],
   "source": []
  }
 ],
 "metadata": {
  "kernelspec": {
   "display_name": "base",
   "language": "python",
   "name": "python3"
  },
  "language_info": {
   "codemirror_mode": {
    "name": "ipython",
    "version": 3
   },
   "file_extension": ".py",
   "mimetype": "text/x-python",
   "name": "python",
   "nbconvert_exporter": "python",
   "pygments_lexer": "ipython3",
   "version": "3.11.5"
  }
 },
 "nbformat": 4,
 "nbformat_minor": 2
}
